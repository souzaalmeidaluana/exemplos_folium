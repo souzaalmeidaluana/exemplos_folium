{
 "cells": [
  {
   "cell_type": "markdown",
   "id": "560a43e5",
   "metadata": {},
   "source": [
    "# Como adicionar uma caixa de busca a um mapa no Folium\n",
    "\n",
    "Para maiores informações sobre esse código, visite: https://youtu.be/_eBVURmX-iQ"
   ]
  },
  {
   "cell_type": "code",
   "execution_count": 1,
   "id": "5d4537a3",
   "metadata": {},
   "outputs": [],
   "source": [
    "#Bibliotecas\n",
    "import folium\n",
    "from folium.plugins import Geocoder"
   ]
  },
  {
   "cell_type": "code",
   "execution_count": 2,
   "id": "7ac5a971",
   "metadata": {},
   "outputs": [],
   "source": [
    "#Criando o mapa inicial\n",
    "mapa = folium.Map([51.507222, -0.1275], zoom_start = 16, tiles = \"cartodbpositron\")\n",
    "\n",
    "#Adicionando caixa de busca\n",
    "Geocoder(collapsed = False, position = \"topright\", add_marker = True).add_to(mapa)\n",
    "\n",
    "\n",
    "\n",
    "#Salvando o mapa\n",
    "mapa.save(\"busca.html\")"
   ]
  },
  {
   "cell_type": "code",
   "execution_count": null,
   "id": "50a0ab22",
   "metadata": {},
   "outputs": [],
   "source": []
  }
 ],
 "metadata": {
  "kernelspec": {
   "display_name": "Python 3 (ipykernel)",
   "language": "python",
   "name": "python3"
  },
  "language_info": {
   "codemirror_mode": {
    "name": "ipython",
    "version": 3
   },
   "file_extension": ".py",
   "mimetype": "text/x-python",
   "name": "python",
   "nbconvert_exporter": "python",
   "pygments_lexer": "ipython3",
   "version": "3.9.7"
  }
 },
 "nbformat": 4,
 "nbformat_minor": 5
}
