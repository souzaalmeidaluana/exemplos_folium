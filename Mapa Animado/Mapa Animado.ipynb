{
 "cells": [
  {
   "cell_type": "markdown",
   "id": "4432cfc2",
   "metadata": {},
   "source": [
    "# Bibliotecas"
   ]
  },
  {
   "cell_type": "code",
   "execution_count": 1,
   "id": "0e8cd3bb",
   "metadata": {},
   "outputs": [],
   "source": [
    "import folium\n",
    "from folium.plugins import TimestampedGeoJson"
   ]
  },
  {
   "cell_type": "markdown",
   "id": "44c61942",
   "metadata": {},
   "source": [
    "# GeoJson"
   ]
  },
  {
   "cell_type": "code",
   "execution_count": 4,
   "id": "e50e437e",
   "metadata": {},
   "outputs": [],
   "source": [
    "linhas = [{\"coord\": [[6.132779779760554, 49.60770888883908], \n",
    "                    [6.132629712088744, 49.607639875167955]],\n",
    "          \"datas\": [\"2023-04-11T09:01:00\", \"2023-04-11T09:05:00\"],\n",
    "          \"estilo_icone\": {\"radius\": 0}},\n",
    "          \n",
    "          {\"coord\": [[6.132629712088744, 49.607639875167955],\n",
    "                    [6.132629712088744, 49.60754890245224]],\n",
    "          \"datas\": [\"2023-04-11T09:05:00\", \"2023-04-11T09:10:00\"],\n",
    "          \"estilo_icone\": {\"radius\": 0}},\n",
    "          \n",
    "          {\"coord\": [[6.132629712088744, 49.60754890245224],\n",
    "                    [6.132590984947631, 49.60741087455934]],\n",
    "          \"datas\": [\"2023-04-11T09:10:00\", \"2023-04-11T09:15:00\"],\n",
    "          \"estilo_icone\": {\"radius\": 0}},\n",
    "          \n",
    "          {\"coord\": [[6.132590984947631, 49.60741087455934],\n",
    "                    [6.1324409172758205, 49.607370093516195]],\n",
    "          \"datas\": [\"2023-04-11T09:15:00\", \"2023-04-11T09:20:00\"],\n",
    "          \"estilo_icone\": {\"radius\": 0}},\n",
    "          \n",
    "          {\"coord\": [[6.1324409172758205, 49.607370093516195],\n",
    "                    [6.132145622824838, 49.60703443286511]],\n",
    "          \"datas\": [\"2023-04-11T09:20:00\", \"2023-04-11T09:25:00\"],\n",
    "          \"estilo_icone\": {\"radius\": 10},\n",
    "          \"popup\": \"\"\"<figure>\n",
    "          <img src = \"fig.jpg\" alt = \"Pétrusse\" style = \"width:100%\">\n",
    "          <figcaption>La Pétrusse, Luxemburgo</figcaption>\n",
    "          </figure>\"\"\"},\n",
    "          \n",
    "          {\"coord\": [[6.132145622824838, 49.60703443286511],\n",
    "                    [6.130935399665075, 49.60818570789726]],\n",
    "          \"datas\": [\"2023-04-11T09:25:00\", \"2023-04-11T09:35:00\"],\n",
    "          \"estilo_icone\": {\"radius\": 0}},\n",
    "          \n",
    "          {\"coord\": [[6.130935399665075, 49.60818570789726],\n",
    "                    [6.130412583213135, 49.608267268606156]],\n",
    "          \"datas\": [\"2023-04-11T09:35:00\", \"2023-04-11T09:40:00\"],\n",
    "          \"estilo_icone\": {\"radius\": 0}},\n",
    "          \n",
    "          {\"coord\": [[6.130412583213135, 49.608267268606156],\n",
    "                    [6.129671926639361, 49.60833314444651]],\n",
    "          \"datas\": [\"2023-04-11T09:40:00\", \"2023-04-11T09:45:00\"],\n",
    "          \"estilo_icone\": {\"radius\": 0}},\n",
    "          \n",
    "          {\"coord\": [[6.129671926639361, 49.60833314444651],\n",
    "                    [6.128955474495529, 49.608301775012876]],\n",
    "          \"datas\": [\"2023-04-11T09:45:00\", \"2023-04-11T09:50:00\"],\n",
    "          \"estilo_icone\": {\"radius\": 0}}]\n",
    "\n",
    "features = []\n",
    "\n",
    "for dado in linhas:\n",
    "    features.append({\"type\": \"Feature\",\n",
    "                    \"geometry\": {\"type\": \"LineString\",\n",
    "                                \"coordinates\": dado[\"coord\"]},\n",
    "                    \"properties\": {\"times\": dado[\"datas\"],\n",
    "                                  \"style\": {\"color\": \"#16BAB6\",\n",
    "                                           \"weight\": 3},\n",
    "                                  \"icon\": \"circle\",\n",
    "                                  \"iconstyle\": dado[\"estilo_icone\"],\n",
    "                                  \"popup\": dado[\"popup\"] if \"popup\" in dado else \"\"}})            "
   ]
  },
  {
   "cell_type": "markdown",
   "id": "87e5c0fa",
   "metadata": {},
   "source": [
    "# Mapa"
   ]
  },
  {
   "cell_type": "code",
   "execution_count": 5,
   "id": "87f4f6ca",
   "metadata": {
    "scrolled": false
   },
   "outputs": [
    {
     "data": {
      "text/html": [
       "<div style=\"width:100%;\"><div style=\"position:relative;width:100%;height:0;padding-bottom:60%;\"><span style=\"color:#565656\">Make this Notebook Trusted to load map: File -> Trust Notebook</span><iframe src=\"about:blank\" style=\"position:absolute;width:100%;height:100%;left:0;top:0;border:none !important;\" data-html=%3C%21DOCTYPE%20html%3E%0A%3Chead%3E%20%20%20%20%0A%20%20%20%20%3Cmeta%20http-equiv%3D%22content-type%22%20content%3D%22text/html%3B%20charset%3DUTF-8%22%20/%3E%0A%20%20%20%20%0A%20%20%20%20%20%20%20%20%3Cscript%3E%0A%20%20%20%20%20%20%20%20%20%20%20%20L_NO_TOUCH%20%3D%20false%3B%0A%20%20%20%20%20%20%20%20%20%20%20%20L_DISABLE_3D%20%3D%20false%3B%0A%20%20%20%20%20%20%20%20%3C/script%3E%0A%20%20%20%20%0A%20%20%20%20%3Cstyle%3Ehtml%2C%20body%20%7Bwidth%3A%20100%25%3Bheight%3A%20100%25%3Bmargin%3A%200%3Bpadding%3A%200%3B%7D%3C/style%3E%0A%20%20%20%20%3Cstyle%3E%23map%20%7Bposition%3Aabsolute%3Btop%3A0%3Bbottom%3A0%3Bright%3A0%3Bleft%3A0%3B%7D%3C/style%3E%0A%20%20%20%20%3Cscript%20src%3D%22https%3A//cdn.jsdelivr.net/npm/leaflet%401.6.0/dist/leaflet.js%22%3E%3C/script%3E%0A%20%20%20%20%3Cscript%20src%3D%22https%3A//code.jquery.com/jquery-1.12.4.min.js%22%3E%3C/script%3E%0A%20%20%20%20%3Cscript%20src%3D%22https%3A//maxcdn.bootstrapcdn.com/bootstrap/3.2.0/js/bootstrap.min.js%22%3E%3C/script%3E%0A%20%20%20%20%3Cscript%20src%3D%22https%3A//cdnjs.cloudflare.com/ajax/libs/Leaflet.awesome-markers/2.0.2/leaflet.awesome-markers.js%22%3E%3C/script%3E%0A%20%20%20%20%3Clink%20rel%3D%22stylesheet%22%20href%3D%22https%3A//cdn.jsdelivr.net/npm/leaflet%401.6.0/dist/leaflet.css%22/%3E%0A%20%20%20%20%3Clink%20rel%3D%22stylesheet%22%20href%3D%22https%3A//maxcdn.bootstrapcdn.com/bootstrap/3.2.0/css/bootstrap.min.css%22/%3E%0A%20%20%20%20%3Clink%20rel%3D%22stylesheet%22%20href%3D%22https%3A//maxcdn.bootstrapcdn.com/bootstrap/3.2.0/css/bootstrap-theme.min.css%22/%3E%0A%20%20%20%20%3Clink%20rel%3D%22stylesheet%22%20href%3D%22https%3A//maxcdn.bootstrapcdn.com/font-awesome/4.6.3/css/font-awesome.min.css%22/%3E%0A%20%20%20%20%3Clink%20rel%3D%22stylesheet%22%20href%3D%22https%3A//cdnjs.cloudflare.com/ajax/libs/Leaflet.awesome-markers/2.0.2/leaflet.awesome-markers.css%22/%3E%0A%20%20%20%20%3Clink%20rel%3D%22stylesheet%22%20href%3D%22https%3A//cdn.jsdelivr.net/gh/python-visualization/folium/folium/templates/leaflet.awesome.rotate.min.css%22/%3E%0A%20%20%20%20%0A%20%20%20%20%20%20%20%20%20%20%20%20%3Cmeta%20name%3D%22viewport%22%20content%3D%22width%3Ddevice-width%2C%0A%20%20%20%20%20%20%20%20%20%20%20%20%20%20%20%20initial-scale%3D1.0%2C%20maximum-scale%3D1.0%2C%20user-scalable%3Dno%22%20/%3E%0A%20%20%20%20%20%20%20%20%20%20%20%20%3Cstyle%3E%0A%20%20%20%20%20%20%20%20%20%20%20%20%20%20%20%20%23map_8541ee4b2aae46388fc331a14e3e6888%20%7B%0A%20%20%20%20%20%20%20%20%20%20%20%20%20%20%20%20%20%20%20%20position%3A%20relative%3B%0A%20%20%20%20%20%20%20%20%20%20%20%20%20%20%20%20%20%20%20%20width%3A%20100.0%25%3B%0A%20%20%20%20%20%20%20%20%20%20%20%20%20%20%20%20%20%20%20%20height%3A%20100.0%25%3B%0A%20%20%20%20%20%20%20%20%20%20%20%20%20%20%20%20%20%20%20%20left%3A%200.0%25%3B%0A%20%20%20%20%20%20%20%20%20%20%20%20%20%20%20%20%20%20%20%20top%3A%200.0%25%3B%0A%20%20%20%20%20%20%20%20%20%20%20%20%20%20%20%20%7D%0A%20%20%20%20%20%20%20%20%20%20%20%20%3C/style%3E%0A%20%20%20%20%20%20%20%20%0A%20%20%20%20%3Cscript%20src%3D%22https%3A//cdnjs.cloudflare.com/ajax/libs/jquery/2.0.0/jquery.min.js%22%3E%3C/script%3E%0A%20%20%20%20%3Cscript%20src%3D%22https%3A//cdnjs.cloudflare.com/ajax/libs/jqueryui/1.10.2/jquery-ui.min.js%22%3E%3C/script%3E%0A%20%20%20%20%3Cscript%20src%3D%22https%3A//cdn.jsdelivr.net/npm/iso8601-js-period%400.2.1/iso8601.min.js%22%3E%3C/script%3E%0A%20%20%20%20%3Cscript%20src%3D%22https%3A//cdn.jsdelivr.net/npm/leaflet-timedimension%401.1.1/dist/leaflet.timedimension.min.js%22%3E%3C/script%3E%0A%20%20%20%20%3Cscript%20src%3D%22https%3A//cdnjs.cloudflare.com/ajax/libs/moment.js/2.18.1/moment.min.js%22%3E%3C/script%3E%0A%20%20%20%20%3Clink%20rel%3D%22stylesheet%22%20href%3D%22https%3A//cdnjs.cloudflare.com/ajax/libs/highlight.js/8.4/styles/default.min.css%22/%3E%0A%20%20%20%20%3Clink%20rel%3D%22stylesheet%22%20href%3D%22https%3A//cdn.jsdelivr.net/npm/leaflet-timedimension%401.1.1/dist/leaflet.timedimension.control.css%22/%3E%0A%3C/head%3E%0A%3Cbody%3E%20%20%20%20%0A%20%20%20%20%0A%20%20%20%20%20%20%20%20%20%20%20%20%3Cdiv%20class%3D%22folium-map%22%20id%3D%22map_8541ee4b2aae46388fc331a14e3e6888%22%20%3E%3C/div%3E%0A%20%20%20%20%20%20%20%20%0A%3C/body%3E%0A%3Cscript%3E%20%20%20%20%0A%20%20%20%20%0A%20%20%20%20%20%20%20%20%20%20%20%20var%20map_8541ee4b2aae46388fc331a14e3e6888%20%3D%20L.map%28%0A%20%20%20%20%20%20%20%20%20%20%20%20%20%20%20%20%22map_8541ee4b2aae46388fc331a14e3e6888%22%2C%0A%20%20%20%20%20%20%20%20%20%20%20%20%20%20%20%20%7B%0A%20%20%20%20%20%20%20%20%20%20%20%20%20%20%20%20%20%20%20%20center%3A%20%5B49.607%2C%206.133%5D%2C%0A%20%20%20%20%20%20%20%20%20%20%20%20%20%20%20%20%20%20%20%20crs%3A%20L.CRS.EPSG3857%2C%0A%20%20%20%20%20%20%20%20%20%20%20%20%20%20%20%20%20%20%20%20zoom%3A%2016%2C%0A%20%20%20%20%20%20%20%20%20%20%20%20%20%20%20%20%20%20%20%20zoomControl%3A%20true%2C%0A%20%20%20%20%20%20%20%20%20%20%20%20%20%20%20%20%20%20%20%20preferCanvas%3A%20false%2C%0A%20%20%20%20%20%20%20%20%20%20%20%20%20%20%20%20%7D%0A%20%20%20%20%20%20%20%20%20%20%20%20%29%3B%0A%0A%20%20%20%20%20%20%20%20%20%20%20%20%0A%0A%20%20%20%20%20%20%20%20%0A%20%20%20%20%0A%20%20%20%20%20%20%20%20%20%20%20%20var%20tile_layer_3ee8ac183ca945f180d46efba155a8e6%20%3D%20L.tileLayer%28%0A%20%20%20%20%20%20%20%20%20%20%20%20%20%20%20%20%22https%3A//cartodb-basemaps-%7Bs%7D.global.ssl.fastly.net/light_all/%7Bz%7D/%7Bx%7D/%7By%7D.png%22%2C%0A%20%20%20%20%20%20%20%20%20%20%20%20%20%20%20%20%7B%22attribution%22%3A%20%22%5Cu0026copy%3B%20%5Cu003ca%20href%3D%5C%22http%3A//www.openstreetmap.org/copyright%5C%22%5Cu003eOpenStreetMap%5Cu003c/a%5Cu003e%20contributors%20%5Cu0026copy%3B%20%5Cu003ca%20href%3D%5C%22http%3A//cartodb.com/attributions%5C%22%5Cu003eCartoDB%5Cu003c/a%5Cu003e%2C%20CartoDB%20%5Cu003ca%20href%20%3D%5C%22http%3A//cartodb.com/attributions%5C%22%5Cu003eattributions%5Cu003c/a%5Cu003e%22%2C%20%22detectRetina%22%3A%20false%2C%20%22maxNativeZoom%22%3A%2018%2C%20%22maxZoom%22%3A%2018%2C%20%22minZoom%22%3A%200%2C%20%22noWrap%22%3A%20false%2C%20%22opacity%22%3A%201%2C%20%22subdomains%22%3A%20%22abc%22%2C%20%22tms%22%3A%20false%7D%0A%20%20%20%20%20%20%20%20%20%20%20%20%29.addTo%28map_8541ee4b2aae46388fc331a14e3e6888%29%3B%0A%20%20%20%20%20%20%20%20%0A%20%20%20%20%0A%20%20%20%20%20%20%20%20%20%20%20%20L.Control.TimeDimensionCustom%20%3D%20L.Control.TimeDimension.extend%28%7B%0A%20%20%20%20%20%20%20%20%20%20%20%20%20%20%20%20_getDisplayDateFormat%3A%20function%28date%29%7B%0A%20%20%20%20%20%20%20%20%20%20%20%20%20%20%20%20%20%20%20%20var%20newdate%20%3D%20new%20moment%28date%29%3B%0A%20%20%20%20%20%20%20%20%20%20%20%20%20%20%20%20%20%20%20%20console.log%28newdate%29%0A%20%20%20%20%20%20%20%20%20%20%20%20%20%20%20%20%20%20%20%20return%20newdate.format%28%22YYYY-MM-DD%20HH%3Amm%3Ass%22%29%3B%0A%20%20%20%20%20%20%20%20%20%20%20%20%20%20%20%20%7D%0A%20%20%20%20%20%20%20%20%20%20%20%20%7D%29%3B%0A%20%20%20%20%20%20%20%20%20%20%20%20map_8541ee4b2aae46388fc331a14e3e6888.timeDimension%20%3D%20L.timeDimension%28%0A%20%20%20%20%20%20%20%20%20%20%20%20%20%20%20%20%7B%0A%20%20%20%20%20%20%20%20%20%20%20%20%20%20%20%20%20%20%20%20period%3A%20%22PT1M%22%2C%0A%20%20%20%20%20%20%20%20%20%20%20%20%20%20%20%20%7D%0A%20%20%20%20%20%20%20%20%20%20%20%20%29%3B%0A%20%20%20%20%20%20%20%20%20%20%20%20var%20timeDimensionControl%20%3D%20new%20L.Control.TimeDimensionCustom%28%0A%20%20%20%20%20%20%20%20%20%20%20%20%20%20%20%20%7B%22autoPlay%22%3A%20true%2C%20%22loopButton%22%3A%20false%2C%20%22maxSpeed%22%3A%2010%2C%20%22minSpeed%22%3A%200.1%2C%20%22playerOptions%22%3A%20%7B%22loop%22%3A%20false%2C%20%22startOver%22%3A%20true%2C%20%22transitionTime%22%3A%20200%7D%2C%20%22position%22%3A%20%22bottomleft%22%2C%20%22timeSliderDragUpdate%22%3A%20false%7D%0A%20%20%20%20%20%20%20%20%20%20%20%20%29%3B%0A%20%20%20%20%20%20%20%20%20%20%20%20map_8541ee4b2aae46388fc331a14e3e6888.addControl%28this.timeDimensionControl%29%3B%0A%0A%20%20%20%20%20%20%20%20%20%20%20%20var%20geoJsonLayer%20%3D%20L.geoJson%28%7B%22type%22%3A%20%22FeatureCollection%22%2C%20%22features%22%3A%20%5B%7B%22type%22%3A%20%22Feature%22%2C%20%22geometry%22%3A%20%7B%22type%22%3A%20%22LineString%22%2C%20%22coordinates%22%3A%20%5B%5B6.132779779760554%2C%2049.60770888883908%5D%2C%20%5B6.132629712088744%2C%2049.607639875167955%5D%5D%7D%2C%20%22properties%22%3A%20%7B%22times%22%3A%20%5B%222023-04-11T09%3A01%3A00%22%2C%20%222023-04-11T09%3A05%3A00%22%5D%2C%20%22style%22%3A%20%7B%22color%22%3A%20%22%2316BAB6%22%2C%20%22weight%22%3A%203%7D%2C%20%22icon%22%3A%20%22circle%22%2C%20%22iconstyle%22%3A%20%7B%22radius%22%3A%200%7D%2C%20%22popup%22%3A%20%22%22%7D%7D%2C%20%7B%22type%22%3A%20%22Feature%22%2C%20%22geometry%22%3A%20%7B%22type%22%3A%20%22LineString%22%2C%20%22coordinates%22%3A%20%5B%5B6.132629712088744%2C%2049.607639875167955%5D%2C%20%5B6.132629712088744%2C%2049.60754890245224%5D%5D%7D%2C%20%22properties%22%3A%20%7B%22times%22%3A%20%5B%222023-04-11T09%3A05%3A00%22%2C%20%222023-04-11T09%3A10%3A00%22%5D%2C%20%22style%22%3A%20%7B%22color%22%3A%20%22%2316BAB6%22%2C%20%22weight%22%3A%203%7D%2C%20%22icon%22%3A%20%22circle%22%2C%20%22iconstyle%22%3A%20%7B%22radius%22%3A%200%7D%2C%20%22popup%22%3A%20%22%22%7D%7D%2C%20%7B%22type%22%3A%20%22Feature%22%2C%20%22geometry%22%3A%20%7B%22type%22%3A%20%22LineString%22%2C%20%22coordinates%22%3A%20%5B%5B6.132629712088744%2C%2049.60754890245224%5D%2C%20%5B6.132590984947631%2C%2049.60741087455934%5D%5D%7D%2C%20%22properties%22%3A%20%7B%22times%22%3A%20%5B%222023-04-11T09%3A10%3A00%22%2C%20%222023-04-11T09%3A15%3A00%22%5D%2C%20%22style%22%3A%20%7B%22color%22%3A%20%22%2316BAB6%22%2C%20%22weight%22%3A%203%7D%2C%20%22icon%22%3A%20%22circle%22%2C%20%22iconstyle%22%3A%20%7B%22radius%22%3A%200%7D%2C%20%22popup%22%3A%20%22%22%7D%7D%2C%20%7B%22type%22%3A%20%22Feature%22%2C%20%22geometry%22%3A%20%7B%22type%22%3A%20%22LineString%22%2C%20%22coordinates%22%3A%20%5B%5B6.132590984947631%2C%2049.60741087455934%5D%2C%20%5B6.1324409172758205%2C%2049.607370093516195%5D%5D%7D%2C%20%22properties%22%3A%20%7B%22times%22%3A%20%5B%222023-04-11T09%3A15%3A00%22%2C%20%222023-04-11T09%3A20%3A00%22%5D%2C%20%22style%22%3A%20%7B%22color%22%3A%20%22%2316BAB6%22%2C%20%22weight%22%3A%203%7D%2C%20%22icon%22%3A%20%22circle%22%2C%20%22iconstyle%22%3A%20%7B%22radius%22%3A%200%7D%2C%20%22popup%22%3A%20%22%22%7D%7D%2C%20%7B%22type%22%3A%20%22Feature%22%2C%20%22geometry%22%3A%20%7B%22type%22%3A%20%22LineString%22%2C%20%22coordinates%22%3A%20%5B%5B6.1324409172758205%2C%2049.607370093516195%5D%2C%20%5B6.132145622824838%2C%2049.60703443286511%5D%5D%7D%2C%20%22properties%22%3A%20%7B%22times%22%3A%20%5B%222023-04-11T09%3A20%3A00%22%2C%20%222023-04-11T09%3A25%3A00%22%5D%2C%20%22style%22%3A%20%7B%22color%22%3A%20%22%2316BAB6%22%2C%20%22weight%22%3A%203%7D%2C%20%22icon%22%3A%20%22circle%22%2C%20%22iconstyle%22%3A%20%7B%22radius%22%3A%2010%7D%2C%20%22popup%22%3A%20%22%3Cfigure%3E%5Cn%20%20%20%20%20%20%20%20%20%20%3Cimg%20src%20%3D%20%5C%22fig.jpg%5C%22%20alt%20%3D%20%5C%22P%5Cu00e9trusse%5C%22%20style%20%3D%20%5C%22width%3A100%25%5C%22%3E%5Cn%20%20%20%20%20%20%20%20%20%20%3Cfigcaption%3ELa%20P%5Cu00e9trusse%2C%20Luxemburgo%3C/figcaption%3E%5Cn%20%20%20%20%20%20%20%20%20%20%3C/figure%3E%22%7D%7D%2C%20%7B%22type%22%3A%20%22Feature%22%2C%20%22geometry%22%3A%20%7B%22type%22%3A%20%22LineString%22%2C%20%22coordinates%22%3A%20%5B%5B6.132145622824838%2C%2049.60703443286511%5D%2C%20%5B6.130935399665075%2C%2049.60818570789726%5D%5D%7D%2C%20%22properties%22%3A%20%7B%22times%22%3A%20%5B%222023-04-11T09%3A25%3A00%22%2C%20%222023-04-11T09%3A35%3A00%22%5D%2C%20%22style%22%3A%20%7B%22color%22%3A%20%22%2316BAB6%22%2C%20%22weight%22%3A%203%7D%2C%20%22icon%22%3A%20%22circle%22%2C%20%22iconstyle%22%3A%20%7B%22radius%22%3A%200%7D%2C%20%22popup%22%3A%20%22%22%7D%7D%2C%20%7B%22type%22%3A%20%22Feature%22%2C%20%22geometry%22%3A%20%7B%22type%22%3A%20%22LineString%22%2C%20%22coordinates%22%3A%20%5B%5B6.130935399665075%2C%2049.60818570789726%5D%2C%20%5B6.130412583213135%2C%2049.608267268606156%5D%5D%7D%2C%20%22properties%22%3A%20%7B%22times%22%3A%20%5B%222023-04-11T09%3A35%3A00%22%2C%20%222023-04-11T09%3A40%3A00%22%5D%2C%20%22style%22%3A%20%7B%22color%22%3A%20%22%2316BAB6%22%2C%20%22weight%22%3A%203%7D%2C%20%22icon%22%3A%20%22circle%22%2C%20%22iconstyle%22%3A%20%7B%22radius%22%3A%200%7D%2C%20%22popup%22%3A%20%22%22%7D%7D%2C%20%7B%22type%22%3A%20%22Feature%22%2C%20%22geometry%22%3A%20%7B%22type%22%3A%20%22LineString%22%2C%20%22coordinates%22%3A%20%5B%5B6.130412583213135%2C%2049.608267268606156%5D%2C%20%5B6.129671926639361%2C%2049.60833314444651%5D%5D%7D%2C%20%22properties%22%3A%20%7B%22times%22%3A%20%5B%222023-04-11T09%3A40%3A00%22%2C%20%222023-04-11T09%3A45%3A00%22%5D%2C%20%22style%22%3A%20%7B%22color%22%3A%20%22%2316BAB6%22%2C%20%22weight%22%3A%203%7D%2C%20%22icon%22%3A%20%22circle%22%2C%20%22iconstyle%22%3A%20%7B%22radius%22%3A%200%7D%2C%20%22popup%22%3A%20%22%22%7D%7D%2C%20%7B%22type%22%3A%20%22Feature%22%2C%20%22geometry%22%3A%20%7B%22type%22%3A%20%22LineString%22%2C%20%22coordinates%22%3A%20%5B%5B6.129671926639361%2C%2049.60833314444651%5D%2C%20%5B6.128955474495529%2C%2049.608301775012876%5D%5D%7D%2C%20%22properties%22%3A%20%7B%22times%22%3A%20%5B%222023-04-11T09%3A45%3A00%22%2C%20%222023-04-11T09%3A50%3A00%22%5D%2C%20%22style%22%3A%20%7B%22color%22%3A%20%22%2316BAB6%22%2C%20%22weight%22%3A%203%7D%2C%20%22icon%22%3A%20%22circle%22%2C%20%22iconstyle%22%3A%20%7B%22radius%22%3A%200%7D%2C%20%22popup%22%3A%20%22%22%7D%7D%5D%7D%2C%20%7B%0A%20%20%20%20%20%20%20%20%20%20%20%20%20%20%20%20%20%20%20%20pointToLayer%3A%20function%20%28feature%2C%20latLng%29%20%7B%0A%20%20%20%20%20%20%20%20%20%20%20%20%20%20%20%20%20%20%20%20%20%20%20%20if%20%28feature.properties.icon%20%3D%3D%20%27marker%27%29%20%7B%0A%20%20%20%20%20%20%20%20%20%20%20%20%20%20%20%20%20%20%20%20%20%20%20%20%20%20%20%20if%28feature.properties.iconstyle%29%7B%0A%20%20%20%20%20%20%20%20%20%20%20%20%20%20%20%20%20%20%20%20%20%20%20%20%20%20%20%20%20%20%20%20return%20new%20L.Marker%28latLng%2C%20%7B%0A%20%20%20%20%20%20%20%20%20%20%20%20%20%20%20%20%20%20%20%20%20%20%20%20%20%20%20%20%20%20%20%20%20%20%20%20icon%3A%20L.icon%28feature.properties.iconstyle%29%7D%29%3B%0A%20%20%20%20%20%20%20%20%20%20%20%20%20%20%20%20%20%20%20%20%20%20%20%20%20%20%20%20%7D%0A%20%20%20%20%20%20%20%20%20%20%20%20%20%20%20%20%20%20%20%20%20%20%20%20%20%20%20%20//else%0A%20%20%20%20%20%20%20%20%20%20%20%20%20%20%20%20%20%20%20%20%20%20%20%20%20%20%20%20return%20new%20L.Marker%28latLng%29%3B%0A%20%20%20%20%20%20%20%20%20%20%20%20%20%20%20%20%20%20%20%20%20%20%20%20%7D%0A%20%20%20%20%20%20%20%20%20%20%20%20%20%20%20%20%20%20%20%20%20%20%20%20if%20%28feature.properties.icon%20%3D%3D%20%27circle%27%29%20%7B%0A%20%20%20%20%20%20%20%20%20%20%20%20%20%20%20%20%20%20%20%20%20%20%20%20%20%20%20%20if%20%28feature.properties.iconstyle%29%20%7B%0A%20%20%20%20%20%20%20%20%20%20%20%20%20%20%20%20%20%20%20%20%20%20%20%20%20%20%20%20%20%20%20%20return%20new%20L.circleMarker%28latLng%2C%20feature.properties.iconstyle%29%0A%20%20%20%20%20%20%20%20%20%20%20%20%20%20%20%20%20%20%20%20%20%20%20%20%20%20%20%20%20%20%20%20%7D%3B%0A%20%20%20%20%20%20%20%20%20%20%20%20%20%20%20%20%20%20%20%20%20%20%20%20%20%20%20%20//else%0A%20%20%20%20%20%20%20%20%20%20%20%20%20%20%20%20%20%20%20%20%20%20%20%20%20%20%20%20return%20new%20L.circleMarker%28latLng%29%3B%0A%20%20%20%20%20%20%20%20%20%20%20%20%20%20%20%20%20%20%20%20%20%20%20%20%7D%0A%20%20%20%20%20%20%20%20%20%20%20%20%20%20%20%20%20%20%20%20%20%20%20%20//else%0A%0A%20%20%20%20%20%20%20%20%20%20%20%20%20%20%20%20%20%20%20%20%20%20%20%20return%20new%20L.Marker%28latLng%29%3B%0A%20%20%20%20%20%20%20%20%20%20%20%20%20%20%20%20%20%20%20%20%7D%2C%0A%20%20%20%20%20%20%20%20%20%20%20%20%20%20%20%20%20%20%20%20style%3A%20function%20%28feature%29%20%7B%0A%20%20%20%20%20%20%20%20%20%20%20%20%20%20%20%20%20%20%20%20%20%20%20%20return%20feature.properties.style%3B%0A%20%20%20%20%20%20%20%20%20%20%20%20%20%20%20%20%20%20%20%20%7D%2C%0A%20%20%20%20%20%20%20%20%20%20%20%20%20%20%20%20%20%20%20%20onEachFeature%3A%20function%28feature%2C%20layer%29%20%7B%0A%20%20%20%20%20%20%20%20%20%20%20%20%20%20%20%20%20%20%20%20%20%20%20%20if%20%28feature.properties.popup%29%20%7B%0A%20%20%20%20%20%20%20%20%20%20%20%20%20%20%20%20%20%20%20%20%20%20%20%20layer.bindPopup%28feature.properties.popup%29%3B%0A%20%20%20%20%20%20%20%20%20%20%20%20%20%20%20%20%20%20%20%20%20%20%20%20%7D%0A%20%20%20%20%20%20%20%20%20%20%20%20%20%20%20%20%20%20%20%20%7D%0A%20%20%20%20%20%20%20%20%20%20%20%20%20%20%20%20%7D%29%0A%0A%20%20%20%20%20%20%20%20%20%20%20%20var%20timestamped_geo_json_b79293a12eb04809ae17ce9d05f294c2%20%3D%20L.timeDimension.layer.geoJson%28%0A%20%20%20%20%20%20%20%20%20%20%20%20%20%20%20%20geoJsonLayer%2C%0A%20%20%20%20%20%20%20%20%20%20%20%20%20%20%20%20%7B%0A%20%20%20%20%20%20%20%20%20%20%20%20%20%20%20%20%20%20%20%20updateTimeDimension%3A%20true%2C%0A%20%20%20%20%20%20%20%20%20%20%20%20%20%20%20%20%20%20%20%20addlastPoint%3A%20true%2C%0A%20%20%20%20%20%20%20%20%20%20%20%20%20%20%20%20%20%20%20%20duration%3A%20undefined%2C%0A%20%20%20%20%20%20%20%20%20%20%20%20%20%20%20%20%7D%0A%20%20%20%20%20%20%20%20%20%20%20%20%29.addTo%28map_8541ee4b2aae46388fc331a14e3e6888%29%3B%0A%20%20%20%20%20%20%20%20%0A%3C/script%3E onload=\"this.contentDocument.open();this.contentDocument.write(    decodeURIComponent(this.getAttribute('data-html')));this.contentDocument.close();\" allowfullscreen webkitallowfullscreen mozallowfullscreen></iframe></div></div>"
      ],
      "text/plain": [
       "<folium.folium.Map at 0x263396c9cd0>"
      ]
     },
     "execution_count": 5,
     "metadata": {},
     "output_type": "execute_result"
    }
   ],
   "source": [
    "mapa = folium.Map([49.607, 6.133],\n",
    "                 tiles = \"cartodbpositron\",\n",
    "                 zoom_start = 16)\n",
    "\n",
    "TimestampedGeoJson(data = {\"type\": \"FeatureCollection\",\n",
    "                          \"features\": features},\n",
    "                  period = \"PT1M\",\n",
    "                  loop = False).add_to(mapa)\n",
    "\n",
    "mapa"
   ]
  },
  {
   "cell_type": "code",
   "execution_count": null,
   "id": "c0d05775",
   "metadata": {},
   "outputs": [],
   "source": []
  }
 ],
 "metadata": {
  "kernelspec": {
   "display_name": "Python 3 (ipykernel)",
   "language": "python",
   "name": "python3"
  },
  "language_info": {
   "codemirror_mode": {
    "name": "ipython",
    "version": 3
   },
   "file_extension": ".py",
   "mimetype": "text/x-python",
   "name": "python",
   "nbconvert_exporter": "python",
   "pygments_lexer": "ipython3",
   "version": "3.9.7"
  }
 },
 "nbformat": 4,
 "nbformat_minor": 5
}
