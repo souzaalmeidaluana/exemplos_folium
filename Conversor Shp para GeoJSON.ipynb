{
 "cells": [
  {
   "cell_type": "markdown",
   "id": "267389a9",
   "metadata": {},
   "source": [
    "# Bibliotecas"
   ]
  },
  {
   "cell_type": "code",
   "execution_count": null,
   "id": "d0756ca2",
   "metadata": {},
   "outputs": [],
   "source": [
    "from osgeo import gdal\n",
    "import folium"
   ]
  },
  {
   "cell_type": "markdown",
   "id": "aa85180e",
   "metadata": {},
   "source": [
    "# Função para converter o arquivo .shp"
   ]
  },
  {
   "cell_type": "code",
   "execution_count": null,
   "id": "5420e3c7",
   "metadata": {},
   "outputs": [],
   "source": [
    "def conversor_shp_geojson(nome_arquivo_shp, nome_arquivo_geojson):\n",
    "    opcoes = gdal.VectorTranslateOptions(format = \"GeoJSON\", \n",
    "                                        dstSRS = \"EPSG:4326\")\n",
    "    gdal.VectorTranslate(nome_arquivo_geojson, nome_arquivo_shp, \n",
    "                        options = opcoes)"
   ]
  },
  {
   "cell_type": "code",
   "execution_count": null,
   "id": "568a03a5",
   "metadata": {},
   "outputs": [],
   "source": [
    "nome_arquivo_shp = \"C:/Users/luhsa/OneDrive/Documentos/YT/SHAPE TO GEOJSON/bacias_nivel_2.shp\"\n",
    "nome_arquivo_geojson = \"C:/Users/luhsa/OneDrive/Documentos/YT/SHAPE TO GEOJSON/bacias_nivel_2.geojson\"\n",
    "\n",
    "conversor_shp_geojson(nome_arquivo_shp, nome_arquivo_geojson)"
   ]
  },
  {
   "cell_type": "markdown",
   "id": "019ab9f9",
   "metadata": {},
   "source": [
    "# Folium"
   ]
  },
  {
   "cell_type": "code",
   "execution_count": null,
   "id": "9cf78ca0",
   "metadata": {},
   "outputs": [],
   "source": [
    "mapa = folium.Map(tiles = \"cartodbpositron\")\n",
    "\n",
    "folium.GeoJson(nome_arquivo_geojson).add_to(mapa)\n",
    "\n",
    "mapa"
   ]
  },
  {
   "cell_type": "code",
   "execution_count": null,
   "id": "0fe6b5a4",
   "metadata": {},
   "outputs": [],
   "source": []
  }
 ],
 "metadata": {
  "kernelspec": {
   "display_name": "Python 3 (ipykernel)",
   "language": "python",
   "name": "python3"
  },
  "language_info": {
   "codemirror_mode": {
    "name": "ipython",
    "version": 3
   },
   "file_extension": ".py",
   "mimetype": "text/x-python",
   "name": "python",
   "nbconvert_exporter": "python",
   "pygments_lexer": "ipython3",
   "version": "3.9.7"
  }
 },
 "nbformat": 4,
 "nbformat_minor": 5
}
