{
 "cells": [
  {
   "cell_type": "code",
   "execution_count": 1,
   "id": "5d4537a3",
   "metadata": {},
   "outputs": [],
   "source": [
    "import folium\n",
    "from folium.plugins import Geocoder"
   ]
  },
  {
   "cell_type": "code",
   "execution_count": 2,
   "id": "7ac5a971",
   "metadata": {},
   "outputs": [],
   "source": [
    "mapa = folium.Map([51.507222, -0.1275], zoom_start = 16, tiles = \"cartodbpositron\")\n",
    "\n",
    "#Adicionando caixa de busca\n",
    "Geocoder(collapsed = False, position = \"topright\", add_marker = True).add_to(mapa)\n",
    "\n",
    "mapa.save(\"busca.html\")"
   ]
  },
  {
   "cell_type": "code",
   "execution_count": null,
   "id": "50a0ab22",
   "metadata": {},
   "outputs": [],
   "source": []
  }
 ],
 "metadata": {
  "kernelspec": {
   "display_name": "Python 3 (ipykernel)",
   "language": "python",
   "name": "python3"
  },
  "language_info": {
   "codemirror_mode": {
    "name": "ipython",
    "version": 3
   },
   "file_extension": ".py",
   "mimetype": "text/x-python",
   "name": "python",
   "nbconvert_exporter": "python",
   "pygments_lexer": "ipython3",
   "version": "3.9.7"
  }
 },
 "nbformat": 4,
 "nbformat_minor": 5
}
